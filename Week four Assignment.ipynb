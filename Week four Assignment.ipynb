{
 "cells": [
  {
   "cell_type": "markdown",
   "metadata": {},
   "source": [
    "***1. Write a Python program to check whether a string is a palindrome or not using a stack***\n",
    "\n",
    "\n",
    "\n"
   ]
  },
  {
   "cell_type": "code",
   "execution_count": 8,
   "metadata": {},
   "outputs": [
    {
     "name": "stdout",
     "output_type": "stream",
     "text": [
      "['radar', 'madam', 'civic', 'lola'] is not a palindrome.\n"
     ]
    }
   ],
   "source": [
    "#Defne 'Stack' class \n",
    "class Stack:\n",
    "\tdef __init__(self):\n",
    "\t\tself.items = []\n",
    "\n",
    "\tdef push(self, item):\n",
    "\t\tself.items.append(item)\n",
    "\n",
    "\tdef pop(self):\n",
    "\t\treturn self.items.pop() if not self.is_empty() else None\n",
    "\n",
    "\tdef is_empty(self):\n",
    "\t\treturn len(self.items) == 0\n",
    "\n",
    "# Function to check palindrome using a stack\n",
    "def is_palindrome(s):\n",
    "\tstack = Stack()\n",
    "\n",
    "\t# Push each character onto the stack\n",
    "\tfor char in s:\n",
    "\t\tstack.push(char)\n",
    "\n",
    "\t# Pop characters from the stack and compare with the string\n",
    "\tfor char in s:\n",
    "\t\tif char != stack.pop():\n",
    "\t\t\treturn False\n",
    "\n",
    "\treturn True\n",
    "\n",
    "# Example\n",
    "input_strings = ['radar', 'madam', 'civic', 'lola']\n",
    "result = is_palindrome(input_strings) # Convert to lowercase for case-insensitivity\n",
    "for string in input_strings:\n",
    "\tif result:\n",
    "\t\tprint(f\"{} is a palindrome.\")\n",
    "else:\n",
    "\tprint(f\"{input_strings} is not a palindrome.\")\n"
   ]
  }
 ],
 "metadata": {
  "kernelspec": {
   "display_name": "Python 3",
   "language": "python",
   "name": "python3"
  },
  "language_info": {
   "codemirror_mode": {
    "name": "ipython",
    "version": 3
   },
   "file_extension": ".py",
   "mimetype": "text/x-python",
   "name": "python",
   "nbconvert_exporter": "python",
   "pygments_lexer": "ipython3",
   "version": "3.12.3"
  }
 },
 "nbformat": 4,
 "nbformat_minor": 2
}
