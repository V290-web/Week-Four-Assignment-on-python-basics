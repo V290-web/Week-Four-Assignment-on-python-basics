{
 "cells": [
  {
   "cell_type": "markdown",
   "metadata": {},
   "source": [
    "***1. Write a Python program to check whether a string is a palindrome or not using a stack***\n",
    "\n",
    "\n",
    "\n"
   ]
  },
  {
   "cell_type": "code",
   "execution_count": 15,
   "metadata": {},
   "outputs": [
    {
     "name": "stdout",
     "output_type": "stream",
     "text": [
      "civic is a palindrome.\n"
     ]
    }
   ],
   "source": [
    "#Defne 'Stack' class \n",
    "class Stack:\n",
    "\tdef __init__(self):\n",
    "\t\tself.items = []\n",
    "\n",
    "\tdef push(self, item):\n",
    "\t\tself.items.append(item)\n",
    "\n",
    "\tdef pop(self):\n",
    "\t\treturn self.items.pop() if not self.is_empty() else None\n",
    "\n",
    "\tdef is_empty(self):\n",
    "\t\treturn len(self.items) == 0\n",
    "\n",
    "# Function to check palindrome using a stack\n",
    "\n",
    "def is_palindrome(s):\n",
    "\tstack = Stack()\n",
    "\n",
    "\t# Push each character onto the stack\n",
    "\tfor char in s:\n",
    "\t\tstack.push(char)\n",
    "\n",
    "\t# Pop characters from the stack and compare with the string\n",
    "\tfor char in s:\n",
    "\t\tif char != stack.pop():\n",
    "\t\t\treturn False\n",
    "\n",
    "\treturn True\n",
    "\n",
    "# Example\n",
    "word_string = \"civic\"\n",
    "result = is_palindrome(word_string.lower())  # Convert to lowercase for case-insensitivity\n",
    "if result:\n",
    "    print(f\"{word_string} is a palindrome.\")\n",
    "else:\n",
    "    print(f\"{word_string} is not a palindrome.\")"
   ]
  },
  {
   "cell_type": "markdown",
   "metadata": {},
   "source": [
    "***2. Explain the concept of list comprehension in Python with at least three examples.***"
   ]
  },
  {
   "cell_type": "markdown",
   "metadata": {},
   "source": [
    "- List comprehesion provides a shorter alternative syntax for creating a new list. Example codes:"
   ]
  },
  {
   "cell_type": "code",
   "execution_count": 16,
   "metadata": {},
   "outputs": [
    {
     "name": "stdout",
     "output_type": "stream",
     "text": [
      "[1, 4, 9, 16, 25, 36, 49, 64, 81, 100]\n"
     ]
    }
   ],
   "source": [
    "#Example 1\n",
    "\n",
    "squares = [value**2 for value in range(1, 11)]\n",
    "print(squares)"
   ]
  },
  {
   "cell_type": "code",
   "execution_count": 20,
   "metadata": {},
   "outputs": [
    {
     "name": "stdout",
     "output_type": "stream",
     "text": [
      "[2, 4, 6, 8, 10]\n"
     ]
    }
   ],
   "source": [
    "#Example 2\n",
    "\n",
    "even_numbers = [ numbers for numbers in range(1, 11) if numbers % 2 == 0]\n",
    "print(even_numbers)"
   ]
  },
  {
   "cell_type": "code",
   "execution_count": 21,
   "metadata": {},
   "outputs": [
    {
     "name": "stdout",
     "output_type": "stream",
     "text": [
      "[1, 3, 5, 7, 9]\n"
     ]
    }
   ],
   "source": [
    "#Example 3\n",
    "\n",
    "odd_numbers = [numbers for numbers in range(1, 11) if numbers % 2 != 0]\n",
    "print(odd_numbers)"
   ]
  },
  {
   "cell_type": "code",
   "execution_count": 22,
   "metadata": {},
   "outputs": [
    {
     "name": "stdout",
     "output_type": "stream",
     "text": [
      "['BYRON', 'BRANDON', 'IAN', 'CHRIS', 'AUSTIN']\n"
     ]
    }
   ],
   "source": [
    "#Example 4\n",
    "\n",
    "names = ['byron', 'brandon', 'ian', 'chris', 'austin']\n",
    "uppercase_names = [name.upper() for name in names ]\n",
    "print(uppercase_names)"
   ]
  },
  {
   "cell_type": "markdown",
   "metadata": {},
   "source": [
    "***3. Explain what a compound datatype is in Python with three examples.***\n",
    "+ List -  A list is an mutable collection of items/elements in a particular order. Below is an example code showin a list:"
   ]
  },
  {
   "cell_type": "code",
   "execution_count": 23,
   "metadata": {},
   "outputs": [
    {
     "name": "stdout",
     "output_type": "stream",
     "text": [
      "[1, 4, 56, 'Byron', 22]\n"
     ]
    }
   ],
   "source": [
    "values = [1, 4, 56, 'Byron', 22]\n",
    "print(values)"
   ]
  },
  {
   "cell_type": "markdown",
   "metadata": {},
   "source": [
    "+ Dictionary - A dictionary is a collection of key-value pairs. Each *key* maps\n",
    "to a *value*, and you can use a key to access the value associated with that key. Below is an example of a dictionary:"
   ]
  },
  {
   "cell_type": "code",
   "execution_count": 34,
   "metadata": {},
   "outputs": [
    {
     "name": "stdout",
     "output_type": "stream",
     "text": [
      "Name: Byron Morara\n",
      "Age: 23\n",
      "Gender: Male\n",
      "Course: Mathematics and Computer Science\n",
      "Major: Statistics\n"
     ]
    }
   ],
   "source": [
    "student_details = {'name': 'byron morara', \n",
    "                   'age': 23,\n",
    "                   'gender': 'male',\n",
    "                   'course': 'Mathematics and Computer Science',\n",
    "                   'major': 'statistics'}\n",
    "\n",
    "print(\"Name:\", student_details['name'].title())\n",
    "print(\"Age:\", student_details['age'])\n",
    "print(\"Gender:\", student_details['gender'].title())\n",
    "print(\"Course:\", student_details['course'])\n",
    "print(\"Major:\", student_details['major'].title())\n"
   ]
  },
  {
   "cell_type": "markdown",
   "metadata": {},
   "source": [
    "+ Tuples - A tuple is a collection of immutable items/ elements. They are similar to lists, howeer, elements in a tuple cannot be modified once it has been created. Below is an example of a tuple:"
   ]
  },
  {
   "cell_type": "code",
   "execution_count": 37,
   "metadata": {},
   "outputs": [
    {
     "name": "stdout",
     "output_type": "stream",
     "text": [
      "20\n",
      "30\n",
      "60\n",
      "alpha\n",
      "57\n"
     ]
    }
   ],
   "source": [
    "values = (20, 30, 60, 'alpha', 57)\n",
    "print(values[0])\n",
    "print(values[1])\n",
    "print(values[2])\n",
    "print(values[3])\n",
    "print(values[4])"
   ]
  },
  {
   "cell_type": "markdown",
   "metadata": {},
   "source": [
    "***4. Write a function that takes a string and returns a list of bigrams.***"
   ]
  },
  {
   "cell_type": "code",
   "execution_count": 39,
   "metadata": {},
   "outputs": [
    {
     "name": "stdout",
     "output_type": "stream",
     "text": [
      "['he', 'el', 'll', 'lo']\n",
      "['co', 'om', 'mp', 'pr', 're', 'eh', 'he', 'es', 'si', 'io', 'on']\n"
     ]
    }
   ],
   "source": [
    "#Bigram of characters\n",
    "\n",
    "def char_bigrams(input_string):\n",
    "    # Generate bigrams by pairing each character with the next one\n",
    "    return [input_string[i:i+2] for i in range(len(input_string) - 1)]\n",
    "\n",
    "# Example usage\n",
    "string = \"hello\"\n",
    "print(char_bigrams(string)) \n",
    "string1 = \"comprehesion\"\n",
    "print(char_bigrams(string1)) "
   ]
  },
  {
   "cell_type": "code",
   "execution_count": 42,
   "metadata": {},
   "outputs": [
    {
     "name": "stdout",
     "output_type": "stream",
     "text": [
      "[('hello', 'there,'), ('there,', 'good'), ('good', 'morning!')]\n"
     ]
    }
   ],
   "source": [
    "#Bigram of words\n",
    "\n",
    "def word_bigrams(input_string):\n",
    "    # Split the string into words\n",
    "    words = input_string.split()\n",
    "    \n",
    "    # Generate bigrams by pairing each word with the next one\n",
    "    return [(words[i], words[i+1]) for i in range(len(words) -1 )]\n",
    "\n",
    "# Example usage\n",
    "string = \"hello there, good morning!\"\n",
    "print(word_bigrams(string)) "
   ]
  },
  {
   "cell_type": "markdown",
   "metadata": {},
   "source": [
    "***5. Given a dictionary with keys as letters and values as lists of letters, write a function closest_key to find the key with the input value closest to the beginning of the list.***"
   ]
  },
  {
   "cell_type": "code",
   "execution_count": 46,
   "metadata": {},
   "outputs": [
    {
     "name": "stdout",
     "output_type": "stream",
     "text": [
      "a\n"
     ]
    }
   ],
   "source": [
    "def closest_key(d, value):\n",
    "\n",
    "    # Initialize variables to keep track of the closest key and the smallest index\n",
    "    closest_key = None\n",
    "    closest_index = float('inf') # Set to infinity initially\n",
    "    \n",
    "    for key, values in d.items():\n",
    "\n",
    "        # Check if the input_value is in the list \n",
    "        if value in values:\n",
    "            # Find the index of the input_value in the list\n",
    "            index = values.index(value)\n",
    "            # If this index is smaller than the current min_index, update closest_key and min_index\n",
    "            if index < closest_index:\n",
    "                closest_index = index\n",
    "                closest_key = key\n",
    "                \n",
    "    return closest_key\n",
    "\n",
    "\n",
    "d = {\n",
    "    'a': ['x', 'y', 'z'],\n",
    "    'b': ['y', 'z', 'x'],\n",
    "    'c': ['z', 'x', 'y']\n",
    "}\n",
    "\n",
    "value = 'x'\n",
    "result = closest_key(d, value)\n",
    "print(result) \n"
   ]
  }
 ],
 "metadata": {
  "kernelspec": {
   "display_name": "Python 3",
   "language": "python",
   "name": "python3"
  },
  "language_info": {
   "codemirror_mode": {
    "name": "ipython",
    "version": 3
   },
   "file_extension": ".py",
   "mimetype": "text/x-python",
   "name": "python",
   "nbconvert_exporter": "python",
   "pygments_lexer": "ipython3",
   "version": "3.12.3"
  }
 },
 "nbformat": 4,
 "nbformat_minor": 2
}
